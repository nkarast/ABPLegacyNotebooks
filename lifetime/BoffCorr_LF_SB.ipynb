{
 "cells": [
  {
   "cell_type": "code",
   "execution_count": 1,
   "metadata": {},
   "outputs": [
    {
     "name": "stdout",
     "output_type": "stream",
     "text": [
      "/eos/user/n/nkarast/myLibrary/init.ipynb :: Ignoring warnings.\n"
     ]
    },
    {
     "data": {
      "text/html": [
       "<style>.container { width:100% !important; }</style>"
      ],
      "text/plain": [
       "<IPython.core.display.HTML object>"
      ]
     },
     "metadata": {},
     "output_type": "display_data"
    }
   ],
   "source": [
    "%run -i ~/myLibrary/init.ipynb"
   ]
  },
  {
   "cell_type": "code",
   "execution_count": 2,
   "metadata": {},
   "outputs": [],
   "source": [
    "# For LHC Measurement Tools\n",
    "import sys, os\n",
    "BIN = os.path.expanduser(\"GianniLifetime/\")\n",
    "sys.path.append(BIN)\n",
    "import LHCMeasurementTools.mystyle as ms\n",
    "import LHCMeasurementTools.TimestampHelpers as th\n",
    "import matplotlib.cm as cm"
   ]
  },
  {
   "cell_type": "code",
   "execution_count": 3,
   "metadata": {},
   "outputs": [
    {
     "name": "stderr",
     "output_type": "stream",
     "text": [
      "WARNING:cmmnbuild_dep_manager:JVM is already started\n"
     ]
    }
   ],
   "source": [
    "from matplotlib.ticker import MaxNLocator\n",
    "import pjlsa\n",
    "import pytimber"
   ]
  },
  {
   "cell_type": "code",
   "execution_count": 4,
   "metadata": {},
   "outputs": [],
   "source": [
    "def getLPCSBFillList():\n",
    "    df = pd.read_json(\"https://lpc.web.cern.ch/cgi-bin/fillTableReader.py?action=load&year=2018\")['data'].apply(pd.Series)\n",
    "    fill_list = df[(df['ta']==False)&(df['type']=='physics')].index.values.tolist()\n",
    "    return fill_list"
   ]
  },
  {
   "cell_type": "code",
   "execution_count": 5,
   "metadata": {},
   "outputs": [],
   "source": [
    "def getProjectFillList(blacklist = None):\n",
    "    infolder      = \"/eos/project/l/lhc-lumimod/LuminosityFollowUp/2018/procdata/\"\n",
    "    tmp_flist     = [int(x.split('/')[-1].split(\"_\")[-1]) for x in glob.glob(infolder+\"*\")]\n",
    "    if blacklist is None:\n",
    "        blacklist = [6570, 6573, 6574, 6579, 6583, 6584, 6592, 6594, 6595, 6611, 6612, 6613, 6614, 6615, 6616, 6617, 6618, 6620, 6621, 6624, 6628, 6629, 6633, 6636, 6638, 6639, \n",
    "                6843, 6845, 6850, 6892, 6891, 6890, 6885, 6884, 6882, 6881, 6879, 6877, 6874, 6868, 6864, # 90m & VdM\n",
    "                6912, 6911, 6909, # low mu\n",
    "                6913, \n",
    "                 6966# BSRT Calibr\n",
    "                ]\n",
    "    overlap_flist_black = list(set(tmp_flist).intersection(blacklist))\n",
    "    fill_list           = [fil for fil in tmp_flist if fil not in overlap_flist_black]\n",
    "    return fill_list"
   ]
  },
  {
   "cell_type": "code",
   "execution_count": 6,
   "metadata": {},
   "outputs": [],
   "source": [
    "def with_empty_slots(lifet_woBO_h, slots):\n",
    "\n",
    "    mat = lifet_woBO_h.copy()\n",
    "    outp = np.zeros((mat.shape[0], 3564), dtype=float)\n",
    "    outp[:, slots]=mat\n",
    "\n",
    "    return outp"
   ]
  },
  {
   "cell_type": "code",
   "execution_count": 7,
   "metadata": {},
   "outputs": [],
   "source": [
    "def runSBFill(filln, dco, doPlot=False):\n",
    "    '''\n",
    "    given a fill produce some plots\n",
    "    '''\n",
    "    try:    \n",
    "        ### Some fixed values:\n",
    "        t_h_detail = 5\n",
    "        folder = \"/eos/project/l/lhc-lumimod/LuminosityFollowUp/2018/procdata/fill_%d\"%filln\n",
    "\n",
    "        try:\n",
    "            with gzip.open(folder+'/fill_%d.pkl.gz'%filln, 'r') as fid:\n",
    "                fill_data = pickle.load(fid)\n",
    "            print('Loaded fill data.')\n",
    "        except:\n",
    "            print('Error Loading SB Data.')\n",
    "            \n",
    "        try:\n",
    "            with gzip.open(folder+'/fill_%d_lumi_meas.pkl.gz'%filln, 'r') as fid:\n",
    "                lumi_data = pickle.load(fid)\n",
    "            print('Loaded lumi data.')\n",
    "        except:\n",
    "            print('Error Loading Lumi Data.')\n",
    "            \n",
    "\n",
    "\n",
    "        N_traces = len(fill_data['time_range'])\n",
    "        n_dec = 10\n",
    "        sigma_m2 = 80e-3*1e-28\n",
    "        half_xang_obs_urad = 147\n",
    "\n",
    "\n",
    "        # Get the time stamps & convert them\n",
    "        t_stamps = fill_data['time_range']\n",
    "        time_conv = th.TimeConverter(time_in='h', t_plot_tick_h=None, t_ref=t_stamps[0])\n",
    "        tc = time_conv.from_unix\n",
    "\n",
    "\n",
    "        # Get the data on chromaticity\n",
    "        t_start_SB = t_stamps[0]\n",
    "        t_stop_SB = t_stamps[-1]\n",
    "\n",
    "        physics_BP_end = \"PHYSICS-6.5TeV-30cm-120s-2018_V1@120_[END]\"\n",
    "        physics_BP = \"PHYSICS-6.5TeV-30cm-120s-2018_V1\"\n",
    "        lsa = pjlsa.LSAClient()\n",
    "\n",
    "        QP_offsets = {\n",
    "        'LHCBEAM1/QPH': 15.-7.95981,\n",
    "        'LHCBEAM1/QPV': 15.-20.1143,\n",
    "        'LHCBEAM2/QPH': 15.-8.51945,\n",
    "        'LHCBEAM2/QPV': 15.-18.32254,\n",
    "        }\n",
    "\n",
    "        chromaTrims_end = lsa.getTrims(parameter=['LHCBEAM1/QPH','LHCBEAM1/QPV','LHCBEAM2/QPH','LHCBEAM2/QPV'],\n",
    "                                     beamprocess=physics_BP_end,\n",
    "                                     start=t_start_SB-30*60, end=t_stop_SB)\n",
    "\n",
    "        # Get the Octupole current\n",
    "        ldb = pytimber.LoggingDB(source='ldb')\n",
    "        data_timb = ldb.getScaled(['RPMBB.RR17.ROF.A12B1:I_MEAS', 'RPMBB.RR17.ROF.A12B2:I_MEAS'], t_start_SB, t_stop_SB, scaleAlgorithm='AVG', scaleInterval='MINUTE',scaleSize='1')\n",
    "\n",
    "\n",
    "        figlist = []\n",
    "\n",
    "        axslot = None\n",
    "        axd    = None\n",
    "        axd2   = None\n",
    "\n",
    "        temp_dict = {filln : {1:{}, 2:{}}}\n",
    "\n",
    "        for beam in [1,2]:\n",
    "            tref_string=time.strftime(\"%a, %d %b %Y %H:%M:%S\", time.localtime(t_stamps[0]))\n",
    "\n",
    "\n",
    "            slots = fill_data['slots_filled_coll'][beam]\n",
    "            bint = fill_data['b_inten_interp_coll'][beam]\n",
    "            \n",
    "\n",
    "\n",
    "            # Calculate the loss rate from the FBCT and convert it into lifetime\n",
    "            t_mat = np.dot(np.ones((len(slots), 1)), np.atleast_2d(t_stamps)).T\n",
    "            loss_rate = -np.diff(bint, axis=0)/np.diff(t_mat, axis=0)\n",
    "            lifet_h = 1/(loss_rate/bint[:-1,:])/3600.\n",
    "            lifet_h[lifet_h<0]= 200\n",
    "\n",
    "            print slots.shape, bint.shape, tmat.shape, loss_rate.shape\n",
    "            \n",
    "            # Calculate the total luminosity and find the burnoff loss rate\n",
    "            tot_lumi = (lumi_data['ATLAS']['bunch_lumi']+lumi_data['CMS']['bunch_lumi'])[:-1, :]\n",
    "            BO_loss_rate = tot_lumi*sigma_m2\n",
    "\n",
    "            # Remove from the FBCT loss rate the calculated BO loss rate\n",
    "            loss_rate_woBO = loss_rate-BO_loss_rate\n",
    "\n",
    "\n",
    "            # Calculate the sum over all bunches loss rate for BO and other\n",
    "            total_loss_rate_beam = np.sum(loss_rate, axis=1)\n",
    "            total_loss_rate_BO = np.sum(BO_loss_rate, axis=1)\n",
    "\n",
    "\n",
    "            # Calculate the burnoff corrected lifetime and do some quality cuts\n",
    "            lifet_woBO_h = 1/(loss_rate_woBO/bint[:-1,:])/3600.\n",
    "            lifet_woBO_h[lifet_woBO_h<0]= 200\n",
    "            lifet_woBO_h[lifet_woBO_h>200]= 200\n",
    "            lifet_woBO_h_allslots = with_empty_slots(lifet_woBO_h, slots) # this is for the bbb\n",
    "\n",
    "\n",
    "            # Get octupole current\n",
    "            thisoct = data_timb['RPMBB.RR17.ROF.A12B%d:I_MEAS'%beam]\n",
    "\n",
    "\n",
    "            ############################################################################\n",
    "            ### Plot the red/green plot with BO + other losses\n",
    "            ############################################################################\n",
    "            if doPlot:\n",
    "                figtot = plt.figure(1000+beam, figsize=(8*1.3, 6))\n",
    "                figtot.set_facecolor('w')\n",
    "                axtotl = plt.subplot(111)\n",
    "                axtotl.fill_between(x=tc(t_stamps[:-1]), y1=total_loss_rate_BO, color='g', alpha=0.5, label='Burn-off')\n",
    "                axtotl.fill_between(x=tc(t_stamps[:-1]), y1=total_loss_rate_beam, y2=total_loss_rate_BO, color='r', alpha=0.5, label='Other losses')\n",
    "                axtotl.plot(tc(t_stamps[:-1]), total_loss_rate_beam, lw=2, color='k', label='Total loss-rate')\n",
    "                axtotl.set_xlabel('Time [h]')\n",
    "                axtotl.set_ylabel('Loss rate [p/s]')\n",
    "                axtotl.legend(loc='upper right')\n",
    "                axtotl.grid('on')\n",
    "                figtot.suptitle('Fill %d SB loss rate decompoition B%d\\nSB started on %s\\n'%(filln, beam, tref_string))\n",
    "                figlist.append(figtot)\n",
    "\n",
    "\n",
    "\n",
    "            ##################################################################################################################\n",
    "            ### This is the bbb plot with the BO corrected lifetime, luminosity, xing, chroma & octupoles subplots\n",
    "            ##################################################################################################################\n",
    "            if doPlot:\n",
    "                fig  = plt.figure(beam, figsize=(8*1.8,6*1.3))\n",
    "                fig.set_facecolor('w')\n",
    "                axlt = plt.subplot2grid(shape=(5, 5), loc=(0, 1), colspan=3, rowspan=4, sharex=axslot)\n",
    "                cc   = axlt.pcolormesh(np.arange(3564), tc(t_stamps), lifet_woBO_h_allslots, cmap=cm.jet_r, vmin=0, vmax=120)\n",
    "\n",
    "                axcb = plt.subplot2grid(shape=(5, 5), loc=(4, 1), colspan=3, rowspan=1)\n",
    "                plt.colorbar(cc, cax=axcb, label='Lifetime (BO corrected) [h]', orientation='horizontal')\n",
    "                axlt.set_xlabel('25ns slot')\n",
    "\n",
    "                axslot = axlt\n",
    "                axslot.set_xlim(0, 3500)\n",
    "\n",
    "                ax1 = plt.subplot2grid(shape=(5, 5), loc=(0, 0), colspan=1, rowspan=4, sharey=axlt)\n",
    "                ax1.step(fill_data['xing_angle'][1]*1e6/2, tc(t_stamps), lw=2.)\n",
    "                ax1.set_xlim(120, 170)\n",
    "                ax1.set_xlabel('Half-crossing angle [$\\mathrm{\\mu}$rad]')\n",
    "                ax1.set_ylabel('Time [h]')\n",
    "                ax1.xaxis.label.set_color('b')\n",
    "                ax1.tick_params(axis='x', colors='b')\n",
    "                ax1.grid('on')\n",
    "\n",
    "                axlumi = ax1.twiny()\n",
    "                axlumi.plot(0.5*np.sum(lumi_data['CMS']['bunch_lumi']+lumi_data['ATLAS']['bunch_lumi'],axis=1)/1e34*1e-4, tc(t_stamps), 'r', lw=2.)\n",
    "                axlumi.set_xlabel('Avg. Lumi [$10^{34}$ Hz/cm$^2$]')\n",
    "                axlumi.xaxis.label.set_color('r')\n",
    "                axlumi.tick_params(axis='x', colors='r')\n",
    "                axlumi.xaxis.set_major_locator(MaxNLocator(5))\n",
    "                plt.setp(axlumi.get_xticklabels(), fontsize=11)\n",
    "\n",
    "                axqp = plt.subplot2grid(shape=(5, 5), loc=(0, 4), colspan=1, rowspan=4, sharey=axlt)\n",
    "                for plane, styl in zip(['H', 'V'], ['--', '-']):\n",
    "                    parname = 'LHCBEAM%d/QP'%beam + plane\n",
    "                    thistrim = chromaTrims_end[parname]\n",
    "                    thistrim.data.append(thistrim.data[-1])\n",
    "                    thistrim.time.append(t_stop_SB)\n",
    "                    axqp.step(np.array(thistrim.data)+QP_offsets[parname], tc(thistrim.time), ls=styl, lw=2, color = 'k')\n",
    "                axqp.set_xlim(0, 16)\n",
    "                setAxisMaxLocator(axqp, 'x', 10)\n",
    "                axqp.set_xlabel('Chromaticity')\n",
    "                axqp.grid('on')\n",
    "\n",
    "                axoct = axqp.twiny()\n",
    "                #thisoct = data_timb['RPMBB.RR17.ROD.A12B%d:I_MEAS'%beam]\n",
    "                axoct.plot(thisoct[1], tc(thisoct[0]), 'r', lw=2)\n",
    "#                 axoct.set_xlim(-600, -300)\n",
    "                axoct.xaxis.label.set_color('r')\n",
    "                axoct.tick_params(axis='x', colors='r')\n",
    "                axoct.xaxis.set_major_locator(MaxNLocator(5))\n",
    "                axoct.set_xlabel('$I_{\\mathrm{MO}}$ [A]')\n",
    "                axoct.set_ylim(bottom=0)\n",
    "                plt.setp(axoct.get_xticklabels(), fontsize=11)\n",
    "\n",
    "                fig.subplots_adjust(right=.95, left=.05, bottom=.12, top=.81, hspace = 1)\n",
    "                fig.suptitle('Fill %d SB BurnOff corrected lifetime B%d\\nSB started on %s\\n'%(filln, beam, tref_string))\n",
    "                figlist.append(fig)\n",
    "\n",
    "\n",
    "\n",
    "            # Calculate some stuff around the observed crossing angle:        \n",
    "            i_detail   = np.argmin(np.abs(half_xang_obs_urad - fill_data['xing_angle'][1]/2*1e6))\n",
    "            t_h_detail = tc(t_stamps)[i_detail]\n",
    "\n",
    "            mdict = { 'xing':[], \n",
    "                                       'burnoffCorrectedLifetime':[], \n",
    "                                       'burnoffCorrectedLossRate':[], \n",
    "                                       'burnoffLifetime': [], \n",
    "                                       'burnoffLossRate' :[], \n",
    "                                       'octupoles':[],\n",
    "            } \n",
    "\n",
    "\n",
    "            if t_h_detail<tc(t_stamps)[-1]:\n",
    "\n",
    "                ## Some calculations on BO lifetimes \n",
    "                i_plot = np.argmin(np.abs(t_h_detail-tc(t_stamps)))\n",
    "                BO_lr_det = with_empty_slots(BO_loss_rate, slots)[i_plot, :]\n",
    "                lr_det = with_empty_slots(loss_rate, slots)[i_plot, :]\n",
    "                lt_BO_avg = 1./(np.sum(BO_lr_det)/np.sum(bint[i_plot]))/3600.         # burn-off lifetime\n",
    "                lt_other = 1./(np.sum(lr_det-BO_lr_det)/np.sum(bint[i_plot]))/3600.   # burn-off corrected lifetime\n",
    "\n",
    "\n",
    "\n",
    "                if doPlot:\n",
    "                    figd = plt.figure(100+beam, figsize=(8*1.4,6))\n",
    "                    figd.set_facecolor('w')\n",
    "                    axd = figd.add_subplot(111, sharex=axslot, sharey=axd)\n",
    "\n",
    "\n",
    "                    ## Plot\n",
    "                    plt.fill_between(np.arange(3564),BO_lr_det, color='green', alpha=0.6, label='Burn off')\n",
    "                    plt.fill_between(np.arange(3564), BO_lr_det, lr_det, color='red', alpha=.6, label='Additional losses')\n",
    "                    ms.sciy()\n",
    "\n",
    "                    axd.set_ylabel('Loss rate [p/s]')\n",
    "                    axd.set_xlabel('25 ns slot')\n",
    "                    axd.legend(loc='lower right', prop={'size':14})\n",
    "                    axd.set_xlim(0,3500)\n",
    "                    axd.set_ylim(bottom=0)\n",
    "                    axd.grid('on')\n",
    "                    figd.subplots_adjust(right=.94, left=.1, bottom=.12, top=.86)\n",
    "                    figd.suptitle('Fill %d SB Loss Rate at %.1fh for B%d\\nSB started on %s\\n'%(filln, t_h_detail, beam, tref_string))\n",
    "                    figlist.append(figd)\n",
    "\n",
    "\n",
    "                    #### ------ \n",
    "                    figd2 = plt.figure(200+beam, figsize=(8*1.4,6))\n",
    "                    figd2.set_facecolor('w')\n",
    "                    axd2 = figd2.add_subplot(111, sharex=axslot, sharey=axd2)\n",
    "\n",
    "                    axd2.plot(np.arange(3564), BO_lr_det, 'b', lw=2, label='Burn-off ($\\\\tau$=%.1fh)'%lt_BO_avg)\n",
    "                    axd2.plot(np.arange(3564), lr_det-BO_lr_det, 'r', lw=2, label='Other losses ($\\\\tau$=%.1fh)'%lt_other)\n",
    "                    ms.sciy()\n",
    "                    axd2.set_ylabel('Loss rate [p/s]')\n",
    "                    axd2.set_xlabel('25 ns slot')\n",
    "                    axd2.legend(loc='upper right', prop={'size':14})\n",
    "                    axd2.set_xlim(0,3500)\n",
    "                    axd2.set_ylim(bottom=0, top=1.4e6)\n",
    "                    axd2.grid('on')\n",
    "                    figd2.subplots_adjust(right=.94, left=.1, bottom=.12, top=.86)\n",
    "                    figd2.suptitle('Fill %d Loss Rates at %.1fh for B%d Xang %.0furad\\nSB started on %s\\n'%(filln, t_h_detail, beam, fill_data['xing_angle'][1][i_plot]/2*1e6, tref_string))\n",
    "                    figlist.append(figd2)\n",
    "\n",
    "                mdict['xing'].append(fill_data['xing_angle'][1][i_plot]/2.0*1e6)\n",
    "                mdict['burnoffCorrectedLifetime'].append(lt_other)\n",
    "                mdict['burnoffCorrectedLossRate'].append(np.sum(lr_det-BO_lr_det))\n",
    "                mdict['burnoffLifetime'].append(lt_BO_avg)\n",
    "                mdict['burnoffLossRate'].append(np.sum(BO_lr_det))\n",
    "            else:\n",
    "                mdict['xing'].append(np.nan)\n",
    "                mdict['burnoffCorrectedLifetime'].append(np.nan)\n",
    "                mdict['burnoffCorrectedLossRate'].append(np.nan)\n",
    "                mdict['burnoffLifetime'].append(ltnp.nan_BO_avg)\n",
    "                mdict['burnoffLossRate'].append(np.nan)\n",
    "                \n",
    "\n",
    "            mdict['octupoles'].append(np.abs(thisoct[1])[0])\n",
    "            #temp_dict[filln].update(temp_dict[filln][beam])\n",
    "\n",
    "\n",
    "                #with open('avglifet_SB/avg_lifet_fill%d_beam%d_%.1furad.txt'%(filln, beam, fill_data['xing_angle'][1][i_plot]/2*1e6), 'w') as fid:\n",
    "                #    fid.write('%.3f %.3f'%(lt_other, lt_BO_avg))\n",
    "\n",
    "            temp_dict[filln][beam].update(mdict)\n",
    "        dco.update(temp_dict)\n",
    "        ff = './results_stablebeams/'\n",
    "        #[fg.savefig(ff+'/'+fg._suptitle.get_text().split('\\n')[0].replace(' ','_')+'.png', dpi=200) for fg in figlist]\n",
    "        if doPlot:\n",
    "            axslot.set_xlim(770, 1270)\n",
    "\n",
    "    except:\n",
    "        return"
   ]
  },
  {
   "cell_type": "code",
   "execution_count": 8,
   "metadata": {},
   "outputs": [],
   "source": [
    "dco = {}"
   ]
  },
  {
   "cell_type": "code",
   "execution_count": 9,
   "metadata": {
    "scrolled": false
   },
   "outputs": [
    {
     "name": "stdout",
     "output_type": "stream",
     "text": [
      "Loaded fill data.\n",
      "Loaded lumi data.\n"
     ]
    },
    {
     "name": "stderr",
     "output_type": "stream",
     "text": [
      "WARNING:cmmnbuild_dep_manager:JVM is already started\n"
     ]
    },
    {
     "name": "stdout",
     "output_type": "stream",
     "text": [
      "(2544,) (180, 2544)\n"
     ]
    }
   ],
   "source": [
    "runSBFill(7270, dco, True)"
   ]
  },
  {
   "cell_type": "code",
   "execution_count": 10,
   "metadata": {},
   "outputs": [
    {
     "data": {
      "text/plain": [
       "{}"
      ]
     },
     "execution_count": 10,
     "metadata": {},
     "output_type": "execute_result"
    }
   ],
   "source": [
    "dco"
   ]
  },
  {
   "cell_type": "code",
   "execution_count": 11,
   "metadata": {},
   "outputs": [],
   "source": [
    "def runSummary(filename='SummaryBoffCorrLF.pkl.gz', mfillList = None):\n",
    "    \n",
    "    if os.path.exists(filename):\n",
    "        print(\"Filename {} exists, opening....\".format(filename))\n",
    "        with gzip.open(filename, 'rb') as fid:\n",
    "            dco = pickle.load(fid)\n",
    "            \n",
    "        if mfillList is None:\n",
    "            #lpc_fill_list = getLPCSBFillList()\n",
    "            project_fill_list = getProjectFillList()\n",
    "            myFillList = [x for x in project_fill_list if x not in dco.keys()]\n",
    "        else:\n",
    "            myFillList = [x for x in mfillList if x not in dco.keys()]\n",
    "        \n",
    "    else:\n",
    "        print(\"Creating new dictionary...\")\n",
    "        dco = {}\n",
    "        if mfillList is None:\n",
    "            myFillList = getProjectFillList()\n",
    "        else:\n",
    "            myFillList = [x for x in mfillList if x not in dco.keys()]\n",
    "        \n",
    "    \n",
    "    for filln in myFillList:\n",
    "        print(\"working on fill: {}\".format(filln))\n",
    "        runSBFill(filln, dco, doPlot=False)\n",
    "    \n",
    "    \n",
    "        with gzip.open(filename, 'wb') as fid:\n",
    "            pickle.dump(dco, fid)\n",
    "    \n",
    "    print('done')"
   ]
  },
  {
   "cell_type": "code",
   "execution_count": 12,
   "metadata": {
    "scrolled": true
   },
   "outputs": [
    {
     "name": "stdout",
     "output_type": "stream",
     "text": [
      "Filename SummaryBoffCorrLF.pkl.gz exists, opening....\n",
      "working on fill: 6724\n",
      "Loaded fill data.\n",
      "Loaded lumi data.\n"
     ]
    },
    {
     "name": "stderr",
     "output_type": "stream",
     "text": [
      "WARNING:cmmnbuild_dep_manager:JVM is already started\n"
     ]
    },
    {
     "name": "stdout",
     "output_type": "stream",
     "text": [
      "working on fill: 6731\n",
      "Loaded fill data.\n",
      "Loaded lumi data.\n"
     ]
    },
    {
     "name": "stderr",
     "output_type": "stream",
     "text": [
      "WARNING:cmmnbuild_dep_manager:JVM is already started\n"
     ]
    },
    {
     "name": "stdout",
     "output_type": "stream",
     "text": [
      "working on fill: 6751\n",
      "Loaded fill data.\n",
      "Loaded lumi data.\n"
     ]
    },
    {
     "name": "stderr",
     "output_type": "stream",
     "text": [
      "WARNING:cmmnbuild_dep_manager:JVM is already started\n"
     ]
    },
    {
     "name": "stdout",
     "output_type": "stream",
     "text": [
      "working on fill: 6752\n",
      "Loaded fill data.\n",
      "Loaded lumi data.\n"
     ]
    },
    {
     "name": "stderr",
     "output_type": "stream",
     "text": [
      "WARNING:cmmnbuild_dep_manager:JVM is already started\n"
     ]
    },
    {
     "name": "stdout",
     "output_type": "stream",
     "text": [
      "working on fill: 6755\n",
      "Loaded fill data.\n",
      "Loaded lumi data.\n"
     ]
    },
    {
     "name": "stderr",
     "output_type": "stream",
     "text": [
      "WARNING:cmmnbuild_dep_manager:JVM is already started\n"
     ]
    },
    {
     "name": "stdout",
     "output_type": "stream",
     "text": [
      "working on fill: 6761\n",
      "Loaded fill data.\n",
      "Error Loading Lumi Data.\n"
     ]
    },
    {
     "name": "stderr",
     "output_type": "stream",
     "text": [
      "WARNING:cmmnbuild_dep_manager:JVM is already started\n"
     ]
    },
    {
     "name": "stdout",
     "output_type": "stream",
     "text": [
      "working on fill: 6768\n",
      "Loaded fill data.\n",
      "Loaded lumi data.\n"
     ]
    },
    {
     "name": "stderr",
     "output_type": "stream",
     "text": [
      "WARNING:cmmnbuild_dep_manager:JVM is already started\n"
     ]
    },
    {
     "name": "stdout",
     "output_type": "stream",
     "text": [
      "working on fill: 6819\n",
      "Error Loading SB Data.\n",
      "Error Loading Lumi Data.\n",
      "working on fill: 6925\n",
      "Loaded fill data.\n",
      "Loaded lumi data.\n"
     ]
    },
    {
     "name": "stderr",
     "output_type": "stream",
     "text": [
      "WARNING:cmmnbuild_dep_manager:JVM is already started\n"
     ]
    },
    {
     "name": "stdout",
     "output_type": "stream",
     "text": [
      "working on fill: 6944\n",
      "Loaded fill data.\n",
      "Loaded lumi data.\n"
     ]
    },
    {
     "name": "stderr",
     "output_type": "stream",
     "text": [
      "WARNING:cmmnbuild_dep_manager:JVM is already started\n"
     ]
    },
    {
     "name": "stdout",
     "output_type": "stream",
     "text": [
      "working on fill: 6946\n",
      "Loaded fill data.\n",
      "Loaded lumi data.\n"
     ]
    },
    {
     "name": "stderr",
     "output_type": "stream",
     "text": [
      "WARNING:cmmnbuild_dep_manager:JVM is already started\n"
     ]
    },
    {
     "name": "stdout",
     "output_type": "stream",
     "text": [
      "working on fill: 7058\n",
      "Error Loading SB Data.\n",
      "Error Loading Lumi Data.\n",
      "working on fill: 7063\n",
      "Loaded fill data.\n",
      "Error Loading Lumi Data.\n"
     ]
    },
    {
     "name": "stderr",
     "output_type": "stream",
     "text": [
      "WARNING:cmmnbuild_dep_manager:JVM is already started\n"
     ]
    },
    {
     "name": "stdout",
     "output_type": "stream",
     "text": [
      "working on fill: 7078\n",
      "Loaded fill data.\n",
      "Loaded lumi data.\n"
     ]
    },
    {
     "name": "stderr",
     "output_type": "stream",
     "text": [
      "WARNING:cmmnbuild_dep_manager:JVM is already started\n"
     ]
    },
    {
     "name": "stdout",
     "output_type": "stream",
     "text": [
      "working on fill: 7083\n",
      "Loaded fill data.\n",
      "Error Loading Lumi Data.\n"
     ]
    },
    {
     "name": "stderr",
     "output_type": "stream",
     "text": [
      "WARNING:cmmnbuild_dep_manager:JVM is already started\n"
     ]
    },
    {
     "name": "stdout",
     "output_type": "stream",
     "text": [
      "working on fill: 7087\n",
      "Loaded fill data.\n",
      "Error Loading Lumi Data.\n"
     ]
    },
    {
     "name": "stderr",
     "output_type": "stream",
     "text": [
      "WARNING:cmmnbuild_dep_manager:JVM is already started\n"
     ]
    },
    {
     "name": "stdout",
     "output_type": "stream",
     "text": [
      "working on fill: 7088\n",
      "Loaded fill data.\n",
      "Loaded lumi data.\n"
     ]
    },
    {
     "name": "stderr",
     "output_type": "stream",
     "text": [
      "WARNING:cmmnbuild_dep_manager:JVM is already started\n"
     ]
    },
    {
     "name": "stdout",
     "output_type": "stream",
     "text": [
      "working on fill: 7109\n",
      "Loaded fill data.\n",
      "Loaded lumi data.\n"
     ]
    },
    {
     "name": "stderr",
     "output_type": "stream",
     "text": [
      "WARNING:cmmnbuild_dep_manager:JVM is already started\n"
     ]
    },
    {
     "name": "stdout",
     "output_type": "stream",
     "text": [
      "working on fill: 7253\n",
      "Error Loading SB Data.\n",
      "Error Loading Lumi Data.\n",
      "working on fill: 7256\n",
      "Error Loading SB Data.\n",
      "Error Loading Lumi Data.\n",
      "working on fill: 7299\n",
      "Loaded fill data.\n",
      "Error Loading Lumi Data.\n"
     ]
    },
    {
     "name": "stderr",
     "output_type": "stream",
     "text": [
      "WARNING:cmmnbuild_dep_manager:JVM is already started\n"
     ]
    },
    {
     "name": "stdout",
     "output_type": "stream",
     "text": [
      "working on fill: 7300\n",
      "Loaded fill data.\n",
      "Error Loading Lumi Data.\n"
     ]
    },
    {
     "name": "stderr",
     "output_type": "stream",
     "text": [
      "WARNING:cmmnbuild_dep_manager:JVM is already started\n"
     ]
    },
    {
     "name": "stdout",
     "output_type": "stream",
     "text": [
      "working on fill: 7317\n",
      "Loaded fill data.\n",
      "Loaded lumi data.\n"
     ]
    },
    {
     "name": "stderr",
     "output_type": "stream",
     "text": [
      "WARNING:cmmnbuild_dep_manager:JVM is already started\n"
     ]
    },
    {
     "name": "stdout",
     "output_type": "stream",
     "text": [
      "working on fill: 7324\n",
      "Loaded fill data.\n",
      "Error Loading Lumi Data.\n"
     ]
    },
    {
     "name": "stderr",
     "output_type": "stream",
     "text": [
      "WARNING:cmmnbuild_dep_manager:JVM is already started\n",
      "WARNING:pytimber.pytimber:Variable RPMBB.RR17.ROF.A12B1:I_MEAS contains NaN values\n",
      "WARNING:pytimber.pytimber:Variable RPMBB.RR17.ROF.A12B2:I_MEAS contains NaN values\n"
     ]
    },
    {
     "name": "stdout",
     "output_type": "stream",
     "text": [
      "working on fill: 7331\n",
      "Loaded fill data.\n",
      "Loaded lumi data.\n"
     ]
    },
    {
     "name": "stderr",
     "output_type": "stream",
     "text": [
      "WARNING:cmmnbuild_dep_manager:JVM is already started\n"
     ]
    },
    {
     "name": "stdout",
     "output_type": "stream",
     "text": [
      "working on fill: 7333\n",
      "Loaded fill data.\n",
      "Loaded lumi data.\n"
     ]
    },
    {
     "name": "stderr",
     "output_type": "stream",
     "text": [
      "WARNING:cmmnbuild_dep_manager:JVM is already started\n"
     ]
    },
    {
     "name": "stdout",
     "output_type": "stream",
     "text": [
      "working on fill: 7334\n",
      "Loaded fill data.\n",
      "Loaded lumi data.\n"
     ]
    },
    {
     "name": "stderr",
     "output_type": "stream",
     "text": [
      "WARNING:cmmnbuild_dep_manager:JVM is already started\n",
      "WARNING:pytimber.pytimber:Variable RPMBB.RR17.ROF.A12B1:I_MEAS contains NaN values\n",
      "WARNING:pytimber.pytimber:Variable RPMBB.RR17.ROF.A12B2:I_MEAS contains NaN values\n"
     ]
    },
    {
     "name": "stdout",
     "output_type": "stream",
     "text": [
      "working on fill: 7358\n",
      "Loaded fill data.\n",
      "Error Loading Lumi Data.\n"
     ]
    },
    {
     "name": "stderr",
     "output_type": "stream",
     "text": [
      "WARNING:cmmnbuild_dep_manager:JVM is already started\n"
     ]
    },
    {
     "name": "stdout",
     "output_type": "stream",
     "text": [
      "done\n"
     ]
    }
   ],
   "source": [
    "runSummary()"
   ]
  },
  {
   "cell_type": "markdown",
   "metadata": {},
   "source": [
    "# Πλοττινγ \n",
    "### (I found it funny... oh, drugs...)"
   ]
  },
  {
   "cell_type": "code",
   "execution_count": 16,
   "metadata": {},
   "outputs": [],
   "source": [
    "filename = 'SummaryBoffCorrLF.pkl.gz'\n",
    "with gzip.open(filename, 'rb') as fid:\n",
    "    data = pickle.load(fid)"
   ]
  },
  {
   "cell_type": "code",
   "execution_count": 17,
   "metadata": {},
   "outputs": [],
   "source": [
    "additional_blacklist = [6584, 6699, 6819, 6843, 6847, 6850, 6864, 6868, 6877, 6879, 6881, 6882, 6884, 6885, 6890, 6891, 6892, 6901, 6913, 6919, 6929, 6966, 6998, 7003, 7005, 7188, 7211, 7212, 7220, 7308, 7304, 7300, 7299, 7220, 7212, 7211, 7188, 7005, 7358]"
   ]
  },
  {
   "cell_type": "code",
   "execution_count": 18,
   "metadata": {},
   "outputs": [
    {
     "name": "stdout",
     "output_type": "stream",
     "text": [
      "155\n"
     ]
    },
    {
     "data": {
      "text/plain": [
       "array([6640, 6641, 6642, 6643, 6645, 6646, 6648, 6650, 6654, 6659, 6662,\n",
       "       6663, 6666, 6672, 6674, 6675, 6677, 6681, 6683, 6688, 6690, 6693,\n",
       "       6694, 6696, 6700, 6702, 6706, 6709, 6710, 6711, 6712, 6714, 6719,\n",
       "       6729, 6733, 6737, 6738, 6741, 6744, 6747, 6749, 6757, 6759, 6762,\n",
       "       6763, 6770, 6772, 6773, 6774, 6776, 6778, 6854, 6858, 6860, 6904,\n",
       "       6921, 6923, 6924, 6927, 6931, 6939, 6940, 6942, 6953, 6956, 6957,\n",
       "       6960, 6961, 7006, 7008, 7013, 7017, 7018, 7020, 7024, 7026, 7031,\n",
       "       7033, 7035, 7036, 7037, 7039, 7040, 7042, 7043, 7045, 7047, 7048,\n",
       "       7052, 7053, 7054, 7055, 7056, 7061, 7065, 7069, 7080, 7090, 7091,\n",
       "       7092, 7095, 7097, 7098, 7099, 7101, 7105, 7108, 7110, 7112, 7114,\n",
       "       7117, 7118, 7120, 7122, 7123, 7124, 7125, 7127, 7128, 7131, 7132,\n",
       "       7133, 7135, 7137, 7139, 7142, 7144, 7145, 7213, 7217, 7218, 7221,\n",
       "       7234, 7236, 7239, 7240, 7242, 7245, 7252, 7259, 7264, 7265, 7266,\n",
       "       7270, 7271, 7274, 7309, 7310, 7314, 7315, 7320, 7321, 7328, 7333,\n",
       "       7334])"
      ]
     },
     "execution_count": 18,
     "metadata": {},
     "output_type": "execute_result"
    }
   ],
   "source": [
    "temp_fill_list = np.array(sorted(data.keys()))\n",
    "fill_list = [x for x in temp_fill_list if x not in additional_blacklist]\n",
    "fill_list = np.array(fill_list)\n",
    "print len(fill_list)\n",
    "fill_list"
   ]
  },
  {
   "cell_type": "code",
   "execution_count": 19,
   "metadata": {},
   "outputs": [],
   "source": [
    "# Clear depending on the xing in the range of 146-148urad\n",
    "xing = []\n",
    "for x in fill_list:\n",
    "    xing.append(data[x][1]['xing'][0])\n",
    "xing = np.array(xing)"
   ]
  },
  {
   "cell_type": "code",
   "execution_count": 20,
   "metadata": {},
   "outputs": [
    {
     "name": "stdout",
     "output_type": "stream",
     "text": [
      "126\n"
     ]
    },
    {
     "data": {
      "text/plain": [
       "array([6640, 6641, 6642, 6648, 6654, 6662, 6663, 6666, 6674, 6675, 6677,\n",
       "       6681, 6693, 6694, 6696, 6700, 6702, 6706, 6709, 6710, 6711, 6712,\n",
       "       6714, 6719, 6729, 6733, 6738, 6741, 6744, 6749, 6757, 6759, 6763,\n",
       "       6770, 6772, 6773, 6774, 6778, 6860, 6904, 6923, 6924, 6931, 6939,\n",
       "       6940, 6942, 6953, 6956, 6957, 6960, 6961, 7006, 7008, 7013, 7017,\n",
       "       7018, 7020, 7024, 7031, 7033, 7036, 7037, 7039, 7040, 7042, 7045,\n",
       "       7047, 7048, 7052, 7053, 7055, 7056, 7061, 7065, 7069, 7080, 7090,\n",
       "       7091, 7092, 7095, 7097, 7098, 7101, 7105, 7108, 7110, 7117, 7118,\n",
       "       7120, 7122, 7123, 7124, 7125, 7127, 7128, 7131, 7132, 7133, 7135,\n",
       "       7137, 7139, 7144, 7145, 7217, 7218, 7221, 7234, 7236, 7239, 7240,\n",
       "       7242, 7245, 7252, 7259, 7264, 7270, 7274, 7309, 7310, 7314, 7315,\n",
       "       7320, 7321, 7328, 7333, 7334])"
      ]
     },
     "execution_count": 20,
     "metadata": {},
     "output_type": "execute_result"
    }
   ],
   "source": [
    "n_fill_list = fill_list[np.logical_and(xing<=148., xing>=146)]\n",
    "fill_list = n_fill_list\n",
    "print len(fill_list)\n",
    "fill_list"
   ]
  },
  {
   "cell_type": "code",
   "execution_count": 21,
   "metadata": {},
   "outputs": [
    {
     "data": {
      "text/plain": [
       "array([451.98, 451.98, 451.98, 451.98, 451.98, 414.32, 395.49, 395.49,\n",
       "       376.65, 376.65, 376.65, 376.65, 376.65, 376.65, 376.65, 376.65,\n",
       "       376.65, 376.65, 376.65, 376.65, 376.65, 376.65, 376.65, 338.99,\n",
       "       338.99, 301.32, 301.32, 301.32, 301.32, 301.32, 301.32, 301.32,\n",
       "       301.32, 301.32, 301.32, 301.32, 301.32, 301.32, 376.65, 376.65,\n",
       "       376.65, 376.65, 376.65, 376.65, 376.65, 376.65, 376.65, 376.65,\n",
       "       376.65, 376.65, 376.65, 376.65, 376.65, 376.65, 376.65, 376.65,\n",
       "       376.65, 376.65, 376.65,    nan, 376.65, 376.65, 376.65, 376.65,\n",
       "       376.65, 376.65, 376.65, 376.65, 376.65, 376.65, 376.65, 357.82,\n",
       "       376.65, 376.65, 376.65, 376.65, 376.65, 376.65, 376.65, 376.65,\n",
       "       376.65, 376.65, 376.65, 376.65, 376.65, 376.65, 376.65, 376.65,\n",
       "       376.65, 376.65, 376.65, 376.65, 376.65, 376.65, 376.65, 376.65,\n",
       "       376.65, 376.65, 376.65, 376.65, 376.65, 376.65, 376.65, 376.65,\n",
       "       376.65, 320.15,    nan, 338.99, 338.99, 338.99, 338.99, 338.99,\n",
       "       338.99, 338.99, 338.99, 338.99, 338.99, 376.65, 263.66, 263.66,\n",
       "       564.98, 263.66, 263.66, 263.66, 263.66, 263.66])"
      ]
     },
     "execution_count": 21,
     "metadata": {},
     "output_type": "execute_result"
    }
   ],
   "source": [
    "octupoles = []\n",
    "for x in fill_list:\n",
    "    octupoles.append(data[x][1]['octupoles'][0])\n",
    "\n",
    "octupoles = np.array(octupoles)\n",
    "octupoles"
   ]
  },
  {
   "cell_type": "code",
   "execution_count": 22,
   "metadata": {},
   "outputs": [],
   "source": [
    "lf_b1 = []\n",
    "lf_b2 = []\n",
    "for x in fill_list:\n",
    "    lf_b1.append(data[x][1]['burnoffCorrectedLifetime'][0])\n",
    "    lf_b2.append(data[x][2]['burnoffCorrectedLifetime'][0])\n",
    "lf_b1 = np.array(lf_b1)\n",
    "lf_b2 = np.array(lf_b2)\n",
    "\n",
    "### --- put to nan negative values\n",
    "lf_b1[lf_b1<0] = np.nan\n",
    "lf_b2[lf_b2<0] = np.nan"
   ]
  },
  {
   "cell_type": "code",
   "execution_count": 23,
   "metadata": {},
   "outputs": [],
   "source": [
    "# lfdf = pd.DataFrame()\n",
    "# lfdf['fill'] = fill_list.tolist()\n",
    "# lfdf['octupoles'] = octupoles.tolist()\n",
    "# lfdf['B1_LF']= lf_b1.tolist()\n",
    "# lfdf['B2_LF']= lf_b2.tolist()\n",
    "# lfdf"
   ]
  },
  {
   "cell_type": "code",
   "execution_count": 26,
   "metadata": {},
   "outputs": [
    {
     "data": {
      "image/png": "[encoded data removed]",
      "text/plain": [
       "<Figure size 1958.4x648 with 3 Axes>"
      ]
     },
     "metadata": {},
     "output_type": "display_data"
    }
   ],
   "source": [
    "f   = plt.figure(1, figsize=(16*1.7,9))\n",
    "\n",
    "\n",
    "ax1 = plt.subplot(311)\n",
    "ax1.plot(np.arange(len(fill_list)), octupoles, 'ko', markersize=10)\n",
    "ax1.set_xlim(0, len(fill_list)-1)\n",
    "plt.xticks(np.arange(len(fill_list)), fill_list, rotation='vertical')\n",
    "ax1.set_ylabel(\"Octupole Current [A]\")\n",
    "\n",
    "ax2 = plt.subplot(312, sharex=ax1)\n",
    "ax2.plot(np.arange(len(fill_list)), lf_b1, 'bo', markersize=10)\n",
    "ax2.set_xlim(0, len(fill_list)-1)\n",
    "plt.xticks(np.arange(len(fill_list)), fill_list, rotation='vertical')\n",
    "ax2.set_ylabel(\"B1 Lifetime [h]\")\n",
    "\n",
    "\n",
    "ax3 = plt.subplot(313, sharex=ax1)\n",
    "ax3.plot(np.arange(len(fill_list)), lf_b2, 'ro', markersize=10)\n",
    "ax3.set_xlim(0, len(fill_list)-1)\n",
    "plt.xticks(np.arange(len(fill_list)), fill_list, rotation='vertical')\n",
    "ax3.set_ylabel(\"B2 Lifetime [h]\")\n",
    "\n",
    "# ax1.axvline(np.arange(len(fill_list))[-4], c='k', ls=':')\n",
    "# ax2.axvline(np.arange(len(fill_list))[-4], c='b', ls=':')\n",
    "# ax3.axvline(np.arange(len(fill_list))[-4], c='r', ls=':')\n",
    "\n",
    "\n",
    "plt.setp(ax1.get_xticklabels(), fontsize=10)\n",
    "plt.setp(ax2.get_xticklabels(), fontsize=10)\n",
    "plt.setp(ax3.get_xticklabels(), fontsize=10)\n",
    "\n",
    "setAxisMaxLocator(ax1, 'y', 7)\n",
    "setAxisMaxLocator(ax2, 'y', 7)\n",
    "setAxisMaxLocator(ax3, 'y', 7)\n",
    "\n",
    "ax1.set_ylim(200, 500)\n",
    "ax2.set_ylim(0,300)\n",
    "ax3.set_ylim(0,1000)\n",
    "# ax2.set_ylim(50,100)\n",
    "# ax3.set_ylim(150,250)\n",
    "\n",
    "\n",
    "ax1.set_title(\"Burnoff Corrected Lifetime at 147$\\mu$rad\", fontsize=20, y=1.05)\n",
    "f.subplots_adjust(hspace=0.5)"
   ]
  },
  {
   "cell_type": "code",
   "execution_count": 28,
   "metadata": {},
   "outputs": [
    {
     "name": "stdout",
     "output_type": "stream",
     "text": [
      "Up to TS1:\n",
      "------------------------\n",
      "B1 : 94.4343872523 +\\- 43.6986420194\n",
      "B2 : 360.065071823 +\\- 214.276827632\n",
      "------------------------\n",
      "\n",
      "From TS1 to TS2:\n",
      "------------------------\n",
      "B1 : 87.089610182 +\\- 27.4107912817\n",
      "B2 : 206.978670565 +\\- 109.126790946\n",
      "After TS2:\n",
      "------------------------\n",
      "B1 : 80.0451640115 +\\- 18.6076120595\n",
      "B2 : 200.622845524 +\\- 82.8759968206\n"
     ]
    }
   ],
   "source": [
    "print(\"Up to TS1:\")\n",
    "print(\"------------------------\")\n",
    "print(\"B1 : {} +\\- {}\".format(np.nanmean(lf_b1[n_fill_list<6800]), np.nanstd(lf_b1[n_fill_list<6800])))\n",
    "print(\"B2 : {} +\\- {}\".format(np.nanmean(lf_b2[n_fill_list<6800]), np.nanstd(lf_b2[n_fill_list<6800])))\n",
    "print(\"------------------------\\n\")\n",
    "print(\"From TS1 to TS2:\")\n",
    "print(\"------------------------\")\n",
    "print(\"B1 : {} +\\- {}\".format(np.nanmean(lf_b1[np.logical_and(n_fill_list<7150, n_fill_list>6800)]), np.nanstd(lf_b1[np.logical_and(n_fill_list<7150, n_fill_list>6800)])))\n",
    "print(\"B2 : {} +\\- {}\".format(np.nanmean(lf_b2[np.logical_and(n_fill_list<7150, n_fill_list>6800)]), np.nanstd(lf_b2[np.logical_and(n_fill_list<7150, n_fill_list>6800)])))\n",
    "print(\"After TS2:\")\n",
    "print(\"------------------------\")\n",
    "print(\"B1 : {} +\\- {}\".format(np.nanmean(lf_b1[n_fill_list>7150]), np.nanstd(lf_b1[n_fill_list>7150])))\n",
    "print(\"B2 : {} +\\- {}\".format(np.nanmean(lf_b2[n_fill_list>7150]), np.nanstd(lf_b2[n_fill_list>7150])))"
   ]
  },
  {
   "cell_type": "code",
   "execution_count": null,
   "metadata": {},
   "outputs": [],
   "source": []
  }
 ],
 "metadata": {
  "kernelspec": {
   "display_name": "Python 2",
   "language": "python",
   "name": "python2"
  },
  "language_info": {
   "codemirror_mode": {
    "name": "ipython",
    "version": 2
   },
   "file_extension": ".py",
   "mimetype": "text/x-python",
   "name": "python",
   "nbconvert_exporter": "python",
   "pygments_lexer": "ipython2",
   "version": "2.7.13"
  }
 },
 "nbformat": 4,
 "nbformat_minor": 2
}

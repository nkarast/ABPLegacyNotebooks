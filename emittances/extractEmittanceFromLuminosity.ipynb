{
 "cells": [
  {
   "cell_type": "markdown",
   "metadata": {},
   "source": [
    "# Extracting Emittance estimate from Measured Luminosity\n",
    "~  N. Karastathis, 2018\n",
    "\n",
    "In the LHC, the two high luminosity experiments are measuring the delivered luminosity bunch-by-bunch. Given that the luminosity formula is defined as\n",
    "\n",
    "\n",
    "\n",
    "$\\mathcal{L_{experiment}} = \\frac{N_{b1}N_{b2}n_{b}f_{rev}}{\\sigma_X\\sigma_{\\parallel}}\\cdot \\frac{1}{\\sqrt{1+\\left(\\frac{\\sigma_z\\cdot\\phi}{2\\sigma_X}\\right)^2}}$~,~\n",
    "\n",
    "where \n",
    "- $X$ denotes the crossing plane for the experiment and $\\parallel$ the separation plane, \n",
    "- $N_{bi}$ the bunch charge of beam $i$\n",
    "- $n_b$ the total number of bunches\n",
    "- $f_{rev}$ the revolution frequency of the LHC (i.e. 11.245 kHz)\n",
    "- $\\sigma_{i} = \\sqrt{\\beta^{*}_{i} \\cdot \\frac{\\varepsilon_{n,i}}{\\gamma_{rel}}}$ where $i=X,\\parallel$ the plane\n",
    "- $\\sigma_{z}$ the longitudinal RMS beam size\n",
    "- $\\phi$ the full crossing angle\n",
    "\n",
    "\n",
    "and the fact that the two experiments have their crossing planes rotated by $90^{\\circ}$ we can solve the system of luminosity equations and extract from the measured luminosities of ATLAS and CMS a pair of emittance $(\\varepsilon_{n,X}, \\varepsilon_{n,\\parallel})$ solutions."
   ]
  },
  {
   "cell_type": "code",
   "execution_count": 16,
   "metadata": {},
   "outputs": [],
   "source": [
    "import numpy as np\n",
    "from scipy.constants import c\n",
    "import glob\n",
    "import matplotlib.pyplot as plt\n",
    "from matplotlib.ticker import MaxNLocator\n",
    "import pickle\n",
    "import gzip"
   ]
  },
  {
   "cell_type": "markdown",
   "metadata": {},
   "source": [
    "Using either mathematica or sympy one can find the solution to the system given below:"
   ]
  },
  {
   "cell_type": "code",
   "execution_count": 5,
   "metadata": {},
   "outputs": [],
   "source": [
    "def getEmittancesFromLumi(LAT, LCMS, beta, bunch_length1, bunch_length2, xing, N1, N2, nb, frev, gamma):\n",
    "    sigz = (bunch_length1+bunch_length2)/2.0\n",
    "    p = np.pi\n",
    "    enx = (-16*gamma*p**2*sigz**4*xing**4*LAT**2*LCMS**2 + frev**2*gamma*N1**2*N2**2*nb**2*(-LAT**2+LCMS**2) + beta*np.sqrt((gamma**2*(64*frev**2*N1**2*N2**2*nb**2*p**2*sigz**4*xing**4*LAT**2*LCMS**4+(frev**2*N1**2*N2**2*nb**2*LCMS**2-LAT**2*(frev**2*N1**2*N2**2*nb**2+16*p**2*sigz**4*xing**4*LCMS**2))**2))/beta**2)) /(32*beta*p**2*sigz**2*xing**2*LAT**2*LCMS**2)\n",
    "    eny = (2*frev**2*gamma**2*N1**2*N2**2*nb**2*sigz**2*xing**2*LAT**2)/(beta*(16*gamma*p**2*sigz**4*xing**4*LAT**2*LCMS**2+frev**2*gamma*N1**2*N2**2*nb**2*(-LAT**2+LCMS**2)+beta*np.sqrt(gamma**2*(64*frev**2*N1**2*N2**2*nb**2*p**2*sigz**4*xing**4*LAT**2*LCMS**4+(frev**2*N1**2*N2**2*nb**2*LCMS**2-LAT**2*(frev**2*N1**2*N2**2*nb**2+16*p**2*sigz**4*xing**4*LCMS**2))**2)/beta**2)))\n",
    "    return enx,eny"
   ]
  },
  {
   "cell_type": "markdown",
   "metadata": {},
   "source": [
    "## Example"
   ]
  },
  {
   "cell_type": "code",
   "execution_count": 12,
   "metadata": {},
   "outputs": [],
   "source": [
    "LAT  = 8.65010502e34  # atlas luminosity  [Hz/cm^2]\n",
    "LCMS = 8.63010502e34  # cms luminosity  [Hz/cm^2]\n",
    "nb = 1                # bunch (single here)\n",
    "frev = 11245.5        # revolution frequency [Hz]\n",
    "gamma = 6927.63       # relativistic factor\n",
    "N1 = 1.147e11         # bunch charge of beam 1 [ppb]\n",
    "N2 = 1.142e11         # bunch charge of beam 2 [ppb]\n",
    "blen1 = 0.081224      # bunch length of beam 1 [m]\n",
    "blen2 = 0.081224      # bunch length of beam 1 [m]    \n",
    "beta=0.3              # beta star at the IP (assuming round beams i.e. bx=b//)\n",
    "xing=161.0e-6         # half-crossing angle"
   ]
  },
  {
   "cell_type": "code",
   "execution_count": 14,
   "metadata": {},
   "outputs": [
    {
     "name": "stdout",
     "output_type": "stream",
     "text": [
      "Enx = 1.7229 um\n",
      "Eny = 1.7345 um\n"
     ]
    }
   ],
   "source": [
    "enx, eny = getEmittancesFromLumi(LAT, LCMS, beta, blen1, blen2, xing, N1, N2, nb,frev, gamma)\n",
    "print(\"Enx = {:.4f} um\".format(enx*1.0e6))\n",
    "print(\"Eny = {:.4f} um\".format(eny*1.0e6))"
   ]
  },
  {
   "cell_type": "markdown",
   "metadata": {},
   "source": [
    "----\n",
    "\n",
    "\n",
    "To loop over all fills in Lumimod repository:"
   ]
  },
  {
   "cell_type": "code",
   "execution_count": null,
   "metadata": {},
   "outputs": [],
   "source": [
    "flist = [int(x.split('_')[-1]) for x in glob.glob('/eos/project/l/lhc-lumimod/LuminosityFollowUp/2018/procdata/'+\"*\")]"
   ]
  },
  {
   "cell_type": "code",
   "execution_count": null,
   "metadata": {},
   "outputs": [],
   "source": [
    "gamma = 6927.63\n",
    "frev  = 11245.5\n",
    "nb    = 1\n",
    "\n",
    "fills         = []\n",
    "enx_bsrt_mean = []\n",
    "eny_bsrt_mean = []\n",
    "enx_bsrt_std  = []\n",
    "eny_bsrt_std  = []\n",
    "\n",
    "enx_lumi_mean = []\n",
    "eny_lumi_mean = []\n",
    "enx_lumi_std  = []\n",
    "eny_lumi_std  = []\n",
    "\n",
    "filled_slots  = []\n",
    "\n",
    "for filln in flist:\n",
    "    try:\n",
    "        with gzip.open(\"/eos/project/l/lhc-lumimod/LuminosityFollowUp/2018/procdata/fill_{}/fill_{}_lumi_meas.pkl.gz\".format(filln, filln), 'rb') as fid:\n",
    "            meas = pickle.load(fid)\n",
    "        with gzip.open(\"/eos/project/l/lhc-lumimod/LuminosityFollowUp/2018/procdata/fill_{}/fill_{}.pkl.gz\".format(filln, filln), 'rb') as fid:\n",
    "            sb = pickle.load(fid)\n",
    "    except:\n",
    "        print('Skipping file: {}'.format(filln))\n",
    "        continue\n",
    "    print('Working on fill {}'.format(filln))\n",
    "\n",
    "    \n",
    "    filled_slots.append(len(sb['slots_filled_coll'][1])+len(sb['slots_filled_noncoll'][1]))\n",
    "    \n",
    "    intens_b1 = np.array(sb['b_inten_interp_coll'][1][0])\n",
    "    intens_b2 = np.array(sb['b_inten_interp_coll'][2][0])\n",
    "    \n",
    "    blen_b1 = np.array(sb['bl_interp_m_coll'][1][0])\n",
    "    blen_b2 = np.array(sb['bl_interp_m_coll'][2][0])\n",
    "    \n",
    "    \n",
    "    en1h = np.array(sb['eh_interp_coll'][1][0])\n",
    "    en1v = np.array(sb['ev_interp_coll'][1][0])\n",
    "    en2h = np.array(sb['eh_interp_coll'][2][0])\n",
    "    en2v = np.array(sb['ev_interp_coll'][2][0])\n",
    "    \n",
    "    beta     = sb['betastar'][1][0]\n",
    "    xing_1   = sb['xing_angle'][1][0]\n",
    "    xing_5   = sb['xing_angle'][5][0]\n",
    "    xing     = (xing_1+xing_5)/2.0\n",
    "    \n",
    "    emit_x_conv_lumi = []\n",
    "    emit_y_conv_lumi = []\n",
    "    \n",
    "    emit_x_conv_data = []\n",
    "    emit_y_conv_data = []\n",
    "    \n",
    "    for i_slot in xrange(len(meas['ATLAS']['bunch_lumi'][0])):\n",
    "        LAT  = meas['ATLAS']['bunch_lumi'][0][i_slot]\n",
    "        LCMS = meas['CMS']['bunch_lumi'][0][i_slot]\n",
    "\n",
    "        tmp_enx, tmp_eny = getEmittancesFromLumi(LAT, LCMS, beta/100., blen_b1[i_slot], blen_b2[i_slot], xing/2.0, intens_b1[i_slot], intens_b2[i_slot], nb , frev, gamma)\n",
    "        if i_slot == 1:\n",
    "            print en1h[i_slot], en1v[i_slot],en2h[i_slot], en2v[i_slot], '|', LAT, LCMS, beta/100., blen_b1[i_slot], blen_b2[i_slot], xing/2.0, intens_b1[i_slot], intens_b2[i_slot], nb , frev, gamma, '==>', tmp_enx, tmp_eny\n",
    "        emit_x_conv_lumi.append(tmp_enx)\n",
    "        emit_y_conv_lumi.append(tmp_eny)\n",
    "        \n",
    "        conv_x = (en1h[i_slot] + en2h[i_slot])/2.0\n",
    "        conv_y = (en1v[i_slot] + en2v[i_slot])/2.0\n",
    "        emit_x_conv_data.append(conv_x)\n",
    "        emit_y_conv_data.append(conv_y)\n",
    "    \n",
    "    \n",
    "    fills.append(filln)        \n",
    "    enx_bsrt_mean.append(np.nanmean(emit_x_conv_data))\n",
    "    eny_bsrt_mean.append(np.nanmean(emit_y_conv_data))\n",
    "    enx_bsrt_std.append(np.nanstd(emit_x_conv_data))\n",
    "    eny_bsrt_std.append(np.nanstd(emit_y_conv_data))\n",
    "    \n",
    "    enx_lumi_mean.append(np.nanmean(emit_x_conv_lumi)*1.0e6)\n",
    "    eny_lumi_mean.append(np.nanmean(emit_y_conv_lumi)*1.0e6)\n",
    "    enx_lumi_std.append(np.nanstd(emit_x_conv_lumi)*1.0e6)\n",
    "    eny_lumi_std.append(np.nanstd(emit_y_conv_lumi)*1.0e6)\n",
    "\n",
    "    \n",
    "print('done')  \n",
    "fills         = np.array(fills        )\n",
    "enx_bsrt_mean = np.array(enx_bsrt_mean)\n",
    "eny_bsrt_mean = np.array(eny_bsrt_mean)\n",
    "enx_bsrt_std  = np.array(enx_bsrt_std )\n",
    "eny_bsrt_std  = np.array(eny_bsrt_std )\n",
    "\n",
    "enx_lumi_mean = np.array(enx_lumi_mean)\n",
    "eny_lumi_mean = np.array(eny_lumi_mean)\n",
    "enx_lumi_std  = np.array(enx_lumi_std )\n",
    "eny_lumi_std  = np.array(eny_lumi_std )\n",
    "\n",
    "filled_slots  = np.array(filled_slots )"
   ]
  },
  {
   "cell_type": "markdown",
   "metadata": {},
   "source": [
    "aaand visualize it"
   ]
  },
  {
   "cell_type": "code",
   "execution_count": null,
   "metadata": {},
   "outputs": [],
   "source": [
    "fig = plt.figure(1, figsize=(12,9))\n",
    "ax1 = plt.subplot(211)\n",
    "ax2 = plt.subplot(212)\n",
    "\n",
    "ax1.errorbar(fills, enx_bsrt_mean, yerr=enx_bsrt_std, c='#4C48FF', ls='None')\n",
    "ax1.errorbar(fills, enx_lumi_mean, yerr=enx_lumi_std, c='#FF4948', ls='None')\n",
    "\n",
    "ax1.scatter(fills, enx_bsrt_mean, c='#4C48FF', label='BSRT')\n",
    "ax1.scatter(fills, enx_lumi_mean, c='#FF4948', label='Luminosity')\n",
    "    \n",
    "\n",
    "ax2.errorbar(fills, eny_bsrt_mean, yerr=eny_bsrt_std, c='#4C48FF', ls='None')\n",
    "ax2.errorbar(fills, eny_lumi_mean, yerr=eny_lumi_std, c='#FF4948', ls='None')\n",
    "\n",
    "ax2.scatter(fills, eny_bsrt_mean, c='#4C48FF', label='BSRT')\n",
    "ax2.scatter(fills, eny_lumi_mean, c='#FF4948', label='Luminosity')\n",
    "\n",
    "ax1.set_ylim(1.5, 3)\n",
    "ax2.set_ylim(1.5, 3)\n",
    "\n",
    "\n",
    "ax1.set_ylabel('Horizontal Emittance [$\\mu$m]', fontsize=18)\n",
    "ax2.set_ylabel('Vertical Emittance [$\\mu$m]', fontsize=18)\n",
    "ax1.set_title(\"Emittance Comparison from BSRT and Luminosity\", fontsize=20, y=1.05)\n",
    "\n",
    "\n",
    "leg = ax1.legend(loc='upper left', frameon=True, fancybox=True, ncol=2)\n",
    "frame = leg.get_frame()\n",
    "frame.set_color('white')\n",
    "\n",
    "ax1.grid('on')\n",
    "ax2.grid('on')\n",
    "plt.setp(ax1.get_xticklabels(), visible=False, rotation=90);\n",
    "plt.setp(ax1.get_yticklabels(), fontsize=16);\n",
    "plt.setp(ax2.get_xticklabels(), fontsize=16, visible=True, rotation=90);\n",
    "plt.setp(ax2.get_yticklabels(), fontsize=16, visible=True);"
   ]
  }
 ],
 "metadata": {
  "kernelspec": {
   "display_name": "Python 3",
   "language": "python",
   "name": "python3"
  },
  "language_info": {
   "codemirror_mode": {
    "name": "ipython",
    "version": 3
   },
   "file_extension": ".py",
   "mimetype": "text/x-python",
   "name": "python",
   "nbconvert_exporter": "python",
   "pygments_lexer": "ipython3",
   "version": "3.7.3"
  }
 },
 "nbformat": 4,
 "nbformat_minor": 4
}
